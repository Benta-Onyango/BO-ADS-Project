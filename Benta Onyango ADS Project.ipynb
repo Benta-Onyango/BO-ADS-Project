{
 "cells": [
  {
   "cell_type": "code",
   "execution_count": null,
   "metadata": {},
   "outputs": [],
   "source": [
    "# Operating expense Analaysis for FY 2018-2020"
   ]
  },
  {
   "cell_type": "code",
   "execution_count": 138,
   "metadata": {},
   "outputs": [],
   "source": [
    "# Import files\n",
    "import pandas as pd\n",
    "import numpy as np\n",
    "import seaborn as sns\n",
    "import matplotlib.pyplot as plt\n",
    "import datetime as dt\n",
    "import warnings \n",
    "\n",
    "warnings.filterwarnings(\"ignore\")"
   ]
  },
  {
   "cell_type": "code",
   "execution_count": 162,
   "metadata": {},
   "outputs": [],
   "source": [
    "#Import Data\n",
    "Y_2018 = pd.read_csv('PNL_2018.csv')\n",
    "Y_2019 = pd.read_csv('PNL_2019.csv')\n",
    "Y_2020 = pd.read_csv('PNL_2020.csv')"
   ]
  },
  {
   "cell_type": "code",
   "execution_count": 163,
   "metadata": {},
   "outputs": [
    {
     "data": {
      "text/html": [
       "<div>\n",
       "<style scoped>\n",
       "    .dataframe tbody tr th:only-of-type {\n",
       "        vertical-align: middle;\n",
       "    }\n",
       "\n",
       "    .dataframe tbody tr th {\n",
       "        vertical-align: top;\n",
       "    }\n",
       "\n",
       "    .dataframe thead th {\n",
       "        text-align: right;\n",
       "    }\n",
       "</style>\n",
       "<table border=\"1\" class=\"dataframe\">\n",
       "  <thead>\n",
       "    <tr style=\"text-align: right;\">\n",
       "      <th></th>\n",
       "      <th>Account</th>\n",
       "      <th>Q_1_2018</th>\n",
       "      <th>Q_2_2018</th>\n",
       "      <th>Q_3_2018</th>\n",
       "      <th>Q_4_2018</th>\n",
       "      <th>Total</th>\n",
       "      <th>Unnamed: 6</th>\n",
       "      <th>Unnamed: 7</th>\n",
       "      <th>Unnamed: 8</th>\n",
       "    </tr>\n",
       "  </thead>\n",
       "  <tbody>\n",
       "    <tr>\n",
       "      <th>0</th>\n",
       "      <td>Total Income</td>\n",
       "      <td>34718011.24</td>\n",
       "      <td>27737126.58</td>\n",
       "      <td>34635112.73</td>\n",
       "      <td>25648995.20</td>\n",
       "      <td>1.227392e+08</td>\n",
       "      <td>NaN</td>\n",
       "      <td>NaN</td>\n",
       "      <td>NaN</td>\n",
       "    </tr>\n",
       "    <tr>\n",
       "      <th>1</th>\n",
       "      <td>Total Cost of Sales</td>\n",
       "      <td>30620587.92</td>\n",
       "      <td>17169812.82</td>\n",
       "      <td>27008714.21</td>\n",
       "      <td>16314404.09</td>\n",
       "      <td>9.111352e+07</td>\n",
       "      <td>NaN</td>\n",
       "      <td>NaN</td>\n",
       "      <td>NaN</td>\n",
       "    </tr>\n",
       "    <tr>\n",
       "      <th>2</th>\n",
       "      <td>Gross Profit</td>\n",
       "      <td>4097423.32</td>\n",
       "      <td>10567313.76</td>\n",
       "      <td>7626398.52</td>\n",
       "      <td>9334591.11</td>\n",
       "      <td>3.162573e+07</td>\n",
       "      <td>NaN</td>\n",
       "      <td>NaN</td>\n",
       "      <td>NaN</td>\n",
       "    </tr>\n",
       "    <tr>\n",
       "      <th>3</th>\n",
       "      <td>Expenses</td>\n",
       "      <td>NaN</td>\n",
       "      <td>NaN</td>\n",
       "      <td>NaN</td>\n",
       "      <td>NaN</td>\n",
       "      <td>NaN</td>\n",
       "      <td>NaN</td>\n",
       "      <td>NaN</td>\n",
       "      <td>NaN</td>\n",
       "    </tr>\n",
       "    <tr>\n",
       "      <th>4</th>\n",
       "      <td>10000 Charity and staff contribution</td>\n",
       "      <td>NaN</td>\n",
       "      <td>30000.00</td>\n",
       "      <td>NaN</td>\n",
       "      <td>70000.00</td>\n",
       "      <td>1.000000e+05</td>\n",
       "      <td>NaN</td>\n",
       "      <td>NaN</td>\n",
       "      <td>NaN</td>\n",
       "    </tr>\n",
       "  </tbody>\n",
       "</table>\n",
       "</div>"
      ],
      "text/plain": [
       "                                   Account     Q_1_2018     Q_2_2018  \\\n",
       "0                             Total Income  34718011.24  27737126.58   \n",
       "1                      Total Cost of Sales  30620587.92  17169812.82   \n",
       "2                             Gross Profit   4097423.32  10567313.76   \n",
       "3                                 Expenses          NaN          NaN   \n",
       "4     10000 Charity and staff contribution          NaN     30000.00   \n",
       "\n",
       "      Q_3_2018     Q_4_2018         Total  Unnamed: 6 Unnamed: 7 Unnamed: 8  \n",
       "0  34635112.73  25648995.20  1.227392e+08         NaN        NaN        NaN  \n",
       "1  27008714.21  16314404.09  9.111352e+07         NaN        NaN        NaN  \n",
       "2   7626398.52   9334591.11  3.162573e+07         NaN        NaN        NaN  \n",
       "3          NaN          NaN           NaN         NaN        NaN        NaN  \n",
       "4          NaN     70000.00  1.000000e+05         NaN        NaN        NaN  "
      ]
     },
     "execution_count": 163,
     "metadata": {},
     "output_type": "execute_result"
    }
   ],
   "source": [
    "Y_2018.head()"
   ]
  },
  {
   "cell_type": "code",
   "execution_count": 164,
   "metadata": {},
   "outputs": [
    {
     "data": {
      "text/html": [
       "<div>\n",
       "<style scoped>\n",
       "    .dataframe tbody tr th:only-of-type {\n",
       "        vertical-align: middle;\n",
       "    }\n",
       "\n",
       "    .dataframe tbody tr th {\n",
       "        vertical-align: top;\n",
       "    }\n",
       "\n",
       "    .dataframe thead th {\n",
       "        text-align: right;\n",
       "    }\n",
       "</style>\n",
       "<table border=\"1\" class=\"dataframe\">\n",
       "  <thead>\n",
       "    <tr style=\"text-align: right;\">\n",
       "      <th></th>\n",
       "      <th>Account</th>\n",
       "      <th>Q_1_2018</th>\n",
       "      <th>Q_2_2018</th>\n",
       "      <th>Q_3_2018</th>\n",
       "      <th>Q_4_2018</th>\n",
       "      <th>Total</th>\n",
       "      <th>Unnamed: 6</th>\n",
       "      <th>Unnamed: 7</th>\n",
       "      <th>Unnamed: 8</th>\n",
       "    </tr>\n",
       "  </thead>\n",
       "  <tbody>\n",
       "    <tr>\n",
       "      <th>56</th>\n",
       "      <td>Shipping and delivery expense</td>\n",
       "      <td>119695.38</td>\n",
       "      <td>28401.03</td>\n",
       "      <td>0.00</td>\n",
       "      <td>-4444.05</td>\n",
       "      <td>143652.36</td>\n",
       "      <td>NaN</td>\n",
       "      <td>NaN</td>\n",
       "      <td>NaN</td>\n",
       "    </tr>\n",
       "    <tr>\n",
       "      <th>57</th>\n",
       "      <td>Stationery and printing</td>\n",
       "      <td>NaN</td>\n",
       "      <td>395.00</td>\n",
       "      <td>NaN</td>\n",
       "      <td>545.00</td>\n",
       "      <td>940.00</td>\n",
       "      <td>NaN</td>\n",
       "      <td>NaN</td>\n",
       "      <td>NaN</td>\n",
       "    </tr>\n",
       "    <tr>\n",
       "      <th>58</th>\n",
       "      <td>Travel expenses - selling expenses</td>\n",
       "      <td>79092.00</td>\n",
       "      <td>124784.00</td>\n",
       "      <td>83600.00</td>\n",
       "      <td>112256.00</td>\n",
       "      <td>399732.00</td>\n",
       "      <td>NaN</td>\n",
       "      <td>NaN</td>\n",
       "      <td></td>\n",
       "    </tr>\n",
       "    <tr>\n",
       "      <th>59</th>\n",
       "      <td>Wage expenses</td>\n",
       "      <td>2300.00</td>\n",
       "      <td>2300.00</td>\n",
       "      <td>NaN</td>\n",
       "      <td>NaN</td>\n",
       "      <td>4600.00</td>\n",
       "      <td>NaN</td>\n",
       "      <td></td>\n",
       "      <td>NaN</td>\n",
       "    </tr>\n",
       "    <tr>\n",
       "      <th>60</th>\n",
       "      <td>Total Expenses</td>\n",
       "      <td>5670322.71</td>\n",
       "      <td>6420618.33</td>\n",
       "      <td>6105973.84</td>\n",
       "      <td>8555525.27</td>\n",
       "      <td>26752440.15</td>\n",
       "      <td>NaN</td>\n",
       "      <td>NaN</td>\n",
       "      <td>NaN</td>\n",
       "    </tr>\n",
       "  </tbody>\n",
       "</table>\n",
       "</div>"
      ],
      "text/plain": [
       "                                  Account    Q_1_2018    Q_2_2018    Q_3_2018  \\\n",
       "56          Shipping and delivery expense   119695.38    28401.03        0.00   \n",
       "57                Stationery and printing         NaN      395.00         NaN   \n",
       "58     Travel expenses - selling expenses    79092.00   124784.00    83600.00   \n",
       "59                          Wage expenses     2300.00     2300.00         NaN   \n",
       "60                         Total Expenses  5670322.71  6420618.33  6105973.84   \n",
       "\n",
       "      Q_4_2018        Total  Unnamed: 6 Unnamed: 7 Unnamed: 8  \n",
       "56    -4444.05    143652.36         NaN        NaN        NaN  \n",
       "57      545.00       940.00         NaN        NaN        NaN  \n",
       "58   112256.00    399732.00         NaN        NaN             \n",
       "59         NaN      4600.00         NaN                   NaN  \n",
       "60  8555525.27  26752440.15         NaN        NaN        NaN  "
      ]
     },
     "execution_count": 164,
     "metadata": {},
     "output_type": "execute_result"
    }
   ],
   "source": [
    "Y_2018.tail()"
   ]
  },
  {
   "cell_type": "code",
   "execution_count": 165,
   "metadata": {},
   "outputs": [
    {
     "data": {
      "text/html": [
       "<div>\n",
       "<style scoped>\n",
       "    .dataframe tbody tr th:only-of-type {\n",
       "        vertical-align: middle;\n",
       "    }\n",
       "\n",
       "    .dataframe tbody tr th {\n",
       "        vertical-align: top;\n",
       "    }\n",
       "\n",
       "    .dataframe thead th {\n",
       "        text-align: right;\n",
       "    }\n",
       "</style>\n",
       "<table border=\"1\" class=\"dataframe\">\n",
       "  <thead>\n",
       "    <tr style=\"text-align: right;\">\n",
       "      <th></th>\n",
       "      <th>Account</th>\n",
       "      <th>Q_1_2019</th>\n",
       "      <th>Q_2_2019</th>\n",
       "      <th>Q_3_2019</th>\n",
       "      <th>Q_4_2019</th>\n",
       "      <th>Total</th>\n",
       "      <th>Unnamed: 6</th>\n",
       "    </tr>\n",
       "  </thead>\n",
       "  <tbody>\n",
       "    <tr>\n",
       "      <th>0</th>\n",
       "      <td>Total Income</td>\n",
       "      <td>61300055.36</td>\n",
       "      <td>52068702.35</td>\n",
       "      <td>59405138.39</td>\n",
       "      <td>95587119.38</td>\n",
       "      <td>2.683610e+08</td>\n",
       "      <td>NaN</td>\n",
       "    </tr>\n",
       "    <tr>\n",
       "      <th>1</th>\n",
       "      <td>Total Cost of Sales</td>\n",
       "      <td>53027308.00</td>\n",
       "      <td>43109056.45</td>\n",
       "      <td>52307976.84</td>\n",
       "      <td>75225680.84</td>\n",
       "      <td>2.236700e+08</td>\n",
       "      <td>NaN</td>\n",
       "    </tr>\n",
       "    <tr>\n",
       "      <th>2</th>\n",
       "      <td>Gross Profit</td>\n",
       "      <td>8272747.36</td>\n",
       "      <td>8959645.90</td>\n",
       "      <td>7097161.55</td>\n",
       "      <td>20361438.54</td>\n",
       "      <td>4.469099e+07</td>\n",
       "      <td>NaN</td>\n",
       "    </tr>\n",
       "    <tr>\n",
       "      <th>3</th>\n",
       "      <td>Expenses</td>\n",
       "      <td>NaN</td>\n",
       "      <td>NaN</td>\n",
       "      <td>NaN</td>\n",
       "      <td>NaN</td>\n",
       "      <td>NaN</td>\n",
       "      <td>NaN</td>\n",
       "    </tr>\n",
       "    <tr>\n",
       "      <th>4</th>\n",
       "      <td>10000 Charity and staff contribution</td>\n",
       "      <td>150000.00</td>\n",
       "      <td>200000.00</td>\n",
       "      <td>NaN</td>\n",
       "      <td>NaN</td>\n",
       "      <td>3.500000e+05</td>\n",
       "      <td>NaN</td>\n",
       "    </tr>\n",
       "  </tbody>\n",
       "</table>\n",
       "</div>"
      ],
      "text/plain": [
       "                                   Account     Q_1_2019     Q_2_2019  \\\n",
       "0                             Total Income  61300055.36  52068702.35   \n",
       "1                      Total Cost of Sales  53027308.00  43109056.45   \n",
       "2                             Gross Profit   8272747.36   8959645.90   \n",
       "3                                 Expenses          NaN          NaN   \n",
       "4     10000 Charity and staff contribution    150000.00    200000.00   \n",
       "\n",
       "      Q_3_2019     Q_4_2019         Total Unnamed: 6  \n",
       "0  59405138.39  95587119.38  2.683610e+08        NaN  \n",
       "1  52307976.84  75225680.84  2.236700e+08        NaN  \n",
       "2   7097161.55  20361438.54  4.469099e+07        NaN  \n",
       "3          NaN          NaN           NaN        NaN  \n",
       "4          NaN          NaN  3.500000e+05        NaN  "
      ]
     },
     "execution_count": 165,
     "metadata": {},
     "output_type": "execute_result"
    }
   ],
   "source": [
    "Y_2019.head()"
   ]
  },
  {
   "cell_type": "code",
   "execution_count": 166,
   "metadata": {},
   "outputs": [
    {
     "data": {
      "text/html": [
       "<div>\n",
       "<style scoped>\n",
       "    .dataframe tbody tr th:only-of-type {\n",
       "        vertical-align: middle;\n",
       "    }\n",
       "\n",
       "    .dataframe tbody tr th {\n",
       "        vertical-align: top;\n",
       "    }\n",
       "\n",
       "    .dataframe thead th {\n",
       "        text-align: right;\n",
       "    }\n",
       "</style>\n",
       "<table border=\"1\" class=\"dataframe\">\n",
       "  <thead>\n",
       "    <tr style=\"text-align: right;\">\n",
       "      <th></th>\n",
       "      <th>Account</th>\n",
       "      <th>Q_1_2019</th>\n",
       "      <th>Q_2_2019</th>\n",
       "      <th>Q_3_2019</th>\n",
       "      <th>Q_4_2019</th>\n",
       "      <th>Total</th>\n",
       "      <th>Unnamed: 6</th>\n",
       "    </tr>\n",
       "  </thead>\n",
       "  <tbody>\n",
       "    <tr>\n",
       "      <th>62</th>\n",
       "      <td>Stationery and printing</td>\n",
       "      <td>NaN</td>\n",
       "      <td>9580.00</td>\n",
       "      <td>5797.00</td>\n",
       "      <td>15760.00</td>\n",
       "      <td>31137.00</td>\n",
       "      <td>NaN</td>\n",
       "    </tr>\n",
       "    <tr>\n",
       "      <th>63</th>\n",
       "      <td>Travel expenses - general and admin expenses</td>\n",
       "      <td>3280.00</td>\n",
       "      <td>NaN</td>\n",
       "      <td>0.00</td>\n",
       "      <td>1000.00</td>\n",
       "      <td>4280.00</td>\n",
       "      <td>NaN</td>\n",
       "    </tr>\n",
       "    <tr>\n",
       "      <th>64</th>\n",
       "      <td>Travel expenses - selling expenses</td>\n",
       "      <td>181660.00</td>\n",
       "      <td>8960.00</td>\n",
       "      <td>236411.13</td>\n",
       "      <td>324356.00</td>\n",
       "      <td>751387.13</td>\n",
       "      <td>NaN</td>\n",
       "    </tr>\n",
       "    <tr>\n",
       "      <th>65</th>\n",
       "      <td>Wage expenses</td>\n",
       "      <td>2000.00</td>\n",
       "      <td>NaN</td>\n",
       "      <td>NaN</td>\n",
       "      <td>NaN</td>\n",
       "      <td>2000.00</td>\n",
       "      <td></td>\n",
       "    </tr>\n",
       "    <tr>\n",
       "      <th>66</th>\n",
       "      <td>Total Expenses</td>\n",
       "      <td>7837615.67</td>\n",
       "      <td>7862522.82</td>\n",
       "      <td>9471523.35</td>\n",
       "      <td>12349023.03</td>\n",
       "      <td>37520684.87</td>\n",
       "      <td></td>\n",
       "    </tr>\n",
       "  </tbody>\n",
       "</table>\n",
       "</div>"
      ],
      "text/plain": [
       "                                            Account    Q_1_2019    Q_2_2019  \\\n",
       "62                          Stationery and printing         NaN     9580.00   \n",
       "63     Travel expenses - general and admin expenses     3280.00         NaN   \n",
       "64               Travel expenses - selling expenses   181660.00     8960.00   \n",
       "65                                    Wage expenses     2000.00         NaN   \n",
       "66                                   Total Expenses  7837615.67  7862522.82   \n",
       "\n",
       "      Q_3_2019     Q_4_2019        Total Unnamed: 6  \n",
       "62     5797.00     15760.00     31137.00        NaN  \n",
       "63        0.00      1000.00      4280.00        NaN  \n",
       "64   236411.13    324356.00    751387.13        NaN  \n",
       "65         NaN          NaN      2000.00             \n",
       "66  9471523.35  12349023.03  37520684.87             "
      ]
     },
     "execution_count": 166,
     "metadata": {},
     "output_type": "execute_result"
    }
   ],
   "source": [
    "Y_2019.tail()"
   ]
  },
  {
   "cell_type": "code",
   "execution_count": 167,
   "metadata": {},
   "outputs": [
    {
     "data": {
      "text/html": [
       "<div>\n",
       "<style scoped>\n",
       "    .dataframe tbody tr th:only-of-type {\n",
       "        vertical-align: middle;\n",
       "    }\n",
       "\n",
       "    .dataframe tbody tr th {\n",
       "        vertical-align: top;\n",
       "    }\n",
       "\n",
       "    .dataframe thead th {\n",
       "        text-align: right;\n",
       "    }\n",
       "</style>\n",
       "<table border=\"1\" class=\"dataframe\">\n",
       "  <thead>\n",
       "    <tr style=\"text-align: right;\">\n",
       "      <th></th>\n",
       "      <th>Account</th>\n",
       "      <th>Q_1_2020</th>\n",
       "      <th>Q_2_2020</th>\n",
       "      <th>Q_3_2020</th>\n",
       "      <th>Q_4_2020</th>\n",
       "      <th>Total</th>\n",
       "      <th>Unnamed: 6</th>\n",
       "      <th>Unnamed: 7</th>\n",
       "    </tr>\n",
       "  </thead>\n",
       "  <tbody>\n",
       "    <tr>\n",
       "      <th>0</th>\n",
       "      <td>Total Income</td>\n",
       "      <td>73681687.08</td>\n",
       "      <td>1.053778e+08</td>\n",
       "      <td>38868499.12</td>\n",
       "      <td>60570857.35</td>\n",
       "      <td>2.784989e+08</td>\n",
       "      <td>NaN</td>\n",
       "      <td>NaN</td>\n",
       "    </tr>\n",
       "    <tr>\n",
       "      <th>1</th>\n",
       "      <td>Total Cost of Sales</td>\n",
       "      <td>74912347.33</td>\n",
       "      <td>6.324637e+07</td>\n",
       "      <td>37669324.50</td>\n",
       "      <td>47292449.58</td>\n",
       "      <td>2.231205e+08</td>\n",
       "      <td>NaN</td>\n",
       "      <td>NaN</td>\n",
       "    </tr>\n",
       "    <tr>\n",
       "      <th>2</th>\n",
       "      <td>Gross Profit</td>\n",
       "      <td>-1230660.25</td>\n",
       "      <td>4.213148e+07</td>\n",
       "      <td>1199174.62</td>\n",
       "      <td>13278407.77</td>\n",
       "      <td>5.537840e+07</td>\n",
       "      <td>NaN</td>\n",
       "      <td>NaN</td>\n",
       "    </tr>\n",
       "    <tr>\n",
       "      <th>3</th>\n",
       "      <td>Expenses</td>\n",
       "      <td>NaN</td>\n",
       "      <td>NaN</td>\n",
       "      <td>NaN</td>\n",
       "      <td>NaN</td>\n",
       "      <td>NaN</td>\n",
       "      <td>NaN</td>\n",
       "      <td>NaN</td>\n",
       "    </tr>\n",
       "    <tr>\n",
       "      <th>4</th>\n",
       "      <td>12000 Zakat</td>\n",
       "      <td>NaN</td>\n",
       "      <td>NaN</td>\n",
       "      <td>0.00</td>\n",
       "      <td>975000.00</td>\n",
       "      <td>9.750000e+05</td>\n",
       "      <td>NaN</td>\n",
       "      <td>NaN</td>\n",
       "    </tr>\n",
       "  </tbody>\n",
       "</table>\n",
       "</div>"
      ],
      "text/plain": [
       "               Account     Q_1_2020      Q_2_2020     Q_3_2020     Q_4_2020  \\\n",
       "0         Total Income  73681687.08  1.053778e+08  38868499.12  60570857.35   \n",
       "1  Total Cost of Sales  74912347.33  6.324637e+07  37669324.50  47292449.58   \n",
       "2         Gross Profit  -1230660.25  4.213148e+07   1199174.62  13278407.77   \n",
       "3             Expenses          NaN           NaN          NaN          NaN   \n",
       "4          12000 Zakat          NaN           NaN         0.00    975000.00   \n",
       "\n",
       "          Total Unnamed: 6 Unnamed: 7  \n",
       "0  2.784989e+08        NaN        NaN  \n",
       "1  2.231205e+08        NaN        NaN  \n",
       "2  5.537840e+07        NaN        NaN  \n",
       "3           NaN        NaN        NaN  \n",
       "4  9.750000e+05        NaN        NaN  "
      ]
     },
     "execution_count": 167,
     "metadata": {},
     "output_type": "execute_result"
    }
   ],
   "source": [
    "Y_2020.head()"
   ]
  },
  {
   "cell_type": "code",
   "execution_count": 168,
   "metadata": {},
   "outputs": [
    {
     "data": {
      "text/html": [
       "<div>\n",
       "<style scoped>\n",
       "    .dataframe tbody tr th:only-of-type {\n",
       "        vertical-align: middle;\n",
       "    }\n",
       "\n",
       "    .dataframe tbody tr th {\n",
       "        vertical-align: top;\n",
       "    }\n",
       "\n",
       "    .dataframe thead th {\n",
       "        text-align: right;\n",
       "    }\n",
       "</style>\n",
       "<table border=\"1\" class=\"dataframe\">\n",
       "  <thead>\n",
       "    <tr style=\"text-align: right;\">\n",
       "      <th></th>\n",
       "      <th>Account</th>\n",
       "      <th>Q_1_2020</th>\n",
       "      <th>Q_2_2020</th>\n",
       "      <th>Q_3_2020</th>\n",
       "      <th>Q_4_2020</th>\n",
       "      <th>Total</th>\n",
       "      <th>Unnamed: 6</th>\n",
       "      <th>Unnamed: 7</th>\n",
       "    </tr>\n",
       "  </thead>\n",
       "  <tbody>\n",
       "    <tr>\n",
       "      <th>53</th>\n",
       "      <td>Repairs and Maintenance</td>\n",
       "      <td>34500.00</td>\n",
       "      <td>4500.00</td>\n",
       "      <td>NaN</td>\n",
       "      <td>6000.00</td>\n",
       "      <td>45000.00</td>\n",
       "      <td>NaN</td>\n",
       "      <td>NaN</td>\n",
       "    </tr>\n",
       "    <tr>\n",
       "      <th>54</th>\n",
       "      <td>Shipping and delivery expense</td>\n",
       "      <td>0.00</td>\n",
       "      <td>0.00</td>\n",
       "      <td>NaN</td>\n",
       "      <td>NaN</td>\n",
       "      <td>0.00</td>\n",
       "      <td>NaN</td>\n",
       "      <td>NaN</td>\n",
       "    </tr>\n",
       "    <tr>\n",
       "      <th>55</th>\n",
       "      <td>Stationery and printing</td>\n",
       "      <td>NaN</td>\n",
       "      <td>NaN</td>\n",
       "      <td>3500.00</td>\n",
       "      <td>10600.00</td>\n",
       "      <td>14100.00</td>\n",
       "      <td></td>\n",
       "      <td>NaN</td>\n",
       "    </tr>\n",
       "    <tr>\n",
       "      <th>56</th>\n",
       "      <td>Travel expenses - general and admin expenses</td>\n",
       "      <td>41400.00</td>\n",
       "      <td>NaN</td>\n",
       "      <td>NaN</td>\n",
       "      <td>NaN</td>\n",
       "      <td>41400.00</td>\n",
       "      <td>NaN</td>\n",
       "      <td></td>\n",
       "    </tr>\n",
       "    <tr>\n",
       "      <th>57</th>\n",
       "      <td>Total Expenses</td>\n",
       "      <td>8763797.88</td>\n",
       "      <td>8847207.12</td>\n",
       "      <td>10289482.16</td>\n",
       "      <td>16204157.18</td>\n",
       "      <td>44104644.34</td>\n",
       "      <td>NaN</td>\n",
       "      <td>NaN</td>\n",
       "    </tr>\n",
       "  </tbody>\n",
       "</table>\n",
       "</div>"
      ],
      "text/plain": [
       "                                            Account    Q_1_2020    Q_2_2020  \\\n",
       "53                          Repairs and Maintenance    34500.00     4500.00   \n",
       "54                    Shipping and delivery expense        0.00        0.00   \n",
       "55                          Stationery and printing         NaN         NaN   \n",
       "56     Travel expenses - general and admin expenses    41400.00         NaN   \n",
       "57                                   Total Expenses  8763797.88  8847207.12   \n",
       "\n",
       "       Q_3_2020     Q_4_2020        Total Unnamed: 6 Unnamed: 7  \n",
       "53          NaN      6000.00     45000.00        NaN        NaN  \n",
       "54          NaN          NaN         0.00        NaN        NaN  \n",
       "55      3500.00     10600.00     14100.00                   NaN  \n",
       "56          NaN          NaN     41400.00        NaN             \n",
       "57  10289482.16  16204157.18  44104644.34        NaN        NaN  "
      ]
     },
     "execution_count": 168,
     "metadata": {},
     "output_type": "execute_result"
    }
   ],
   "source": [
    "Y_2020.tail()"
   ]
  },
  {
   "cell_type": "code",
   "execution_count": null,
   "metadata": {},
   "outputs": [],
   "source": [
    "# Selecting rows that have total summation of income, COG and expenses."
   ]
  },
  {
   "cell_type": "code",
   "execution_count": 169,
   "metadata": {},
   "outputs": [],
   "source": [
    "T_2018 = Y_2018[Y_2018['Account'].str.contains('Total', regex=False, case=False, na=False)]"
   ]
  },
  {
   "cell_type": "code",
   "execution_count": 170,
   "metadata": {},
   "outputs": [
    {
     "data": {
      "text/html": [
       "<div>\n",
       "<style scoped>\n",
       "    .dataframe tbody tr th:only-of-type {\n",
       "        vertical-align: middle;\n",
       "    }\n",
       "\n",
       "    .dataframe tbody tr th {\n",
       "        vertical-align: top;\n",
       "    }\n",
       "\n",
       "    .dataframe thead th {\n",
       "        text-align: right;\n",
       "    }\n",
       "</style>\n",
       "<table border=\"1\" class=\"dataframe\">\n",
       "  <thead>\n",
       "    <tr style=\"text-align: right;\">\n",
       "      <th></th>\n",
       "      <th>Account</th>\n",
       "      <th>Q_1_2018</th>\n",
       "      <th>Q_2_2018</th>\n",
       "      <th>Q_3_2018</th>\n",
       "      <th>Q_4_2018</th>\n",
       "      <th>Total</th>\n",
       "      <th>Unnamed: 6</th>\n",
       "      <th>Unnamed: 7</th>\n",
       "      <th>Unnamed: 8</th>\n",
       "    </tr>\n",
       "  </thead>\n",
       "  <tbody>\n",
       "    <tr>\n",
       "      <th>0</th>\n",
       "      <td>Total Income</td>\n",
       "      <td>34718011.24</td>\n",
       "      <td>27737126.58</td>\n",
       "      <td>34635112.73</td>\n",
       "      <td>25648995.20</td>\n",
       "      <td>1.227392e+08</td>\n",
       "      <td>NaN</td>\n",
       "      <td>NaN</td>\n",
       "      <td>NaN</td>\n",
       "    </tr>\n",
       "    <tr>\n",
       "      <th>1</th>\n",
       "      <td>Total Cost of Sales</td>\n",
       "      <td>30620587.92</td>\n",
       "      <td>17169812.82</td>\n",
       "      <td>27008714.21</td>\n",
       "      <td>16314404.09</td>\n",
       "      <td>9.111352e+07</td>\n",
       "      <td>NaN</td>\n",
       "      <td>NaN</td>\n",
       "      <td>NaN</td>\n",
       "    </tr>\n",
       "    <tr>\n",
       "      <th>60</th>\n",
       "      <td>Total Expenses</td>\n",
       "      <td>5670322.71</td>\n",
       "      <td>6420618.33</td>\n",
       "      <td>6105973.84</td>\n",
       "      <td>8555525.27</td>\n",
       "      <td>2.675244e+07</td>\n",
       "      <td>NaN</td>\n",
       "      <td>NaN</td>\n",
       "      <td>NaN</td>\n",
       "    </tr>\n",
       "  </tbody>\n",
       "</table>\n",
       "</div>"
      ],
      "text/plain": [
       "                Account     Q_1_2018     Q_2_2018     Q_3_2018     Q_4_2018  \\\n",
       "0          Total Income  34718011.24  27737126.58  34635112.73  25648995.20   \n",
       "1   Total Cost of Sales  30620587.92  17169812.82  27008714.21  16314404.09   \n",
       "60       Total Expenses   5670322.71   6420618.33   6105973.84   8555525.27   \n",
       "\n",
       "           Total  Unnamed: 6 Unnamed: 7 Unnamed: 8  \n",
       "0   1.227392e+08         NaN        NaN        NaN  \n",
       "1   9.111352e+07         NaN        NaN        NaN  \n",
       "60  2.675244e+07         NaN        NaN        NaN  "
      ]
     },
     "execution_count": 170,
     "metadata": {},
     "output_type": "execute_result"
    }
   ],
   "source": [
    "T_2018.head()"
   ]
  },
  {
   "cell_type": "code",
   "execution_count": 171,
   "metadata": {},
   "outputs": [],
   "source": [
    "T_2019 = Y_2019[Y_2019['Account'].str.contains('Total', regex=False, case=False, na=False)]"
   ]
  },
  {
   "cell_type": "code",
   "execution_count": 172,
   "metadata": {},
   "outputs": [
    {
     "data": {
      "text/html": [
       "<div>\n",
       "<style scoped>\n",
       "    .dataframe tbody tr th:only-of-type {\n",
       "        vertical-align: middle;\n",
       "    }\n",
       "\n",
       "    .dataframe tbody tr th {\n",
       "        vertical-align: top;\n",
       "    }\n",
       "\n",
       "    .dataframe thead th {\n",
       "        text-align: right;\n",
       "    }\n",
       "</style>\n",
       "<table border=\"1\" class=\"dataframe\">\n",
       "  <thead>\n",
       "    <tr style=\"text-align: right;\">\n",
       "      <th></th>\n",
       "      <th>Account</th>\n",
       "      <th>Q_1_2019</th>\n",
       "      <th>Q_2_2019</th>\n",
       "      <th>Q_3_2019</th>\n",
       "      <th>Q_4_2019</th>\n",
       "      <th>Total</th>\n",
       "      <th>Unnamed: 6</th>\n",
       "    </tr>\n",
       "  </thead>\n",
       "  <tbody>\n",
       "    <tr>\n",
       "      <th>0</th>\n",
       "      <td>Total Income</td>\n",
       "      <td>61300055.36</td>\n",
       "      <td>52068702.35</td>\n",
       "      <td>59405138.39</td>\n",
       "      <td>95587119.38</td>\n",
       "      <td>2.683610e+08</td>\n",
       "      <td>NaN</td>\n",
       "    </tr>\n",
       "    <tr>\n",
       "      <th>1</th>\n",
       "      <td>Total Cost of Sales</td>\n",
       "      <td>53027308.00</td>\n",
       "      <td>43109056.45</td>\n",
       "      <td>52307976.84</td>\n",
       "      <td>75225680.84</td>\n",
       "      <td>2.236700e+08</td>\n",
       "      <td>NaN</td>\n",
       "    </tr>\n",
       "    <tr>\n",
       "      <th>66</th>\n",
       "      <td>Total Expenses</td>\n",
       "      <td>7837615.67</td>\n",
       "      <td>7862522.82</td>\n",
       "      <td>9471523.35</td>\n",
       "      <td>12349023.03</td>\n",
       "      <td>3.752068e+07</td>\n",
       "      <td></td>\n",
       "    </tr>\n",
       "  </tbody>\n",
       "</table>\n",
       "</div>"
      ],
      "text/plain": [
       "                Account     Q_1_2019     Q_2_2019     Q_3_2019     Q_4_2019  \\\n",
       "0          Total Income  61300055.36  52068702.35  59405138.39  95587119.38   \n",
       "1   Total Cost of Sales  53027308.00  43109056.45  52307976.84  75225680.84   \n",
       "66       Total Expenses   7837615.67   7862522.82   9471523.35  12349023.03   \n",
       "\n",
       "           Total Unnamed: 6  \n",
       "0   2.683610e+08        NaN  \n",
       "1   2.236700e+08        NaN  \n",
       "66  3.752068e+07             "
      ]
     },
     "execution_count": 172,
     "metadata": {},
     "output_type": "execute_result"
    }
   ],
   "source": [
    "T_2019.head()"
   ]
  },
  {
   "cell_type": "code",
   "execution_count": 173,
   "metadata": {},
   "outputs": [],
   "source": [
    "T_2020 = Y_2020[Y_2020['Account'].str.contains('Total', regex=False, case=False, na=False)]"
   ]
  },
  {
   "cell_type": "code",
   "execution_count": 174,
   "metadata": {},
   "outputs": [
    {
     "data": {
      "text/html": [
       "<div>\n",
       "<style scoped>\n",
       "    .dataframe tbody tr th:only-of-type {\n",
       "        vertical-align: middle;\n",
       "    }\n",
       "\n",
       "    .dataframe tbody tr th {\n",
       "        vertical-align: top;\n",
       "    }\n",
       "\n",
       "    .dataframe thead th {\n",
       "        text-align: right;\n",
       "    }\n",
       "</style>\n",
       "<table border=\"1\" class=\"dataframe\">\n",
       "  <thead>\n",
       "    <tr style=\"text-align: right;\">\n",
       "      <th></th>\n",
       "      <th>Account</th>\n",
       "      <th>Q_1_2020</th>\n",
       "      <th>Q_2_2020</th>\n",
       "      <th>Q_3_2020</th>\n",
       "      <th>Q_4_2020</th>\n",
       "      <th>Total</th>\n",
       "      <th>Unnamed: 6</th>\n",
       "      <th>Unnamed: 7</th>\n",
       "    </tr>\n",
       "  </thead>\n",
       "  <tbody>\n",
       "    <tr>\n",
       "      <th>0</th>\n",
       "      <td>Total Income</td>\n",
       "      <td>73681687.08</td>\n",
       "      <td>1.053778e+08</td>\n",
       "      <td>38868499.12</td>\n",
       "      <td>60570857.35</td>\n",
       "      <td>2.784989e+08</td>\n",
       "      <td>NaN</td>\n",
       "      <td>NaN</td>\n",
       "    </tr>\n",
       "    <tr>\n",
       "      <th>1</th>\n",
       "      <td>Total Cost of Sales</td>\n",
       "      <td>74912347.33</td>\n",
       "      <td>6.324637e+07</td>\n",
       "      <td>37669324.50</td>\n",
       "      <td>47292449.58</td>\n",
       "      <td>2.231205e+08</td>\n",
       "      <td>NaN</td>\n",
       "      <td>NaN</td>\n",
       "    </tr>\n",
       "    <tr>\n",
       "      <th>57</th>\n",
       "      <td>Total Expenses</td>\n",
       "      <td>8763797.88</td>\n",
       "      <td>8.847207e+06</td>\n",
       "      <td>10289482.16</td>\n",
       "      <td>16204157.18</td>\n",
       "      <td>4.410464e+07</td>\n",
       "      <td>NaN</td>\n",
       "      <td>NaN</td>\n",
       "    </tr>\n",
       "  </tbody>\n",
       "</table>\n",
       "</div>"
      ],
      "text/plain": [
       "                Account     Q_1_2020      Q_2_2020     Q_3_2020     Q_4_2020  \\\n",
       "0          Total Income  73681687.08  1.053778e+08  38868499.12  60570857.35   \n",
       "1   Total Cost of Sales  74912347.33  6.324637e+07  37669324.50  47292449.58   \n",
       "57       Total Expenses   8763797.88  8.847207e+06  10289482.16  16204157.18   \n",
       "\n",
       "           Total Unnamed: 6 Unnamed: 7  \n",
       "0   2.784989e+08        NaN        NaN  \n",
       "1   2.231205e+08        NaN        NaN  \n",
       "57  4.410464e+07        NaN        NaN  "
      ]
     },
     "execution_count": 174,
     "metadata": {},
     "output_type": "execute_result"
    }
   ],
   "source": [
    "T_2020.head()"
   ]
  },
  {
   "cell_type": "code",
   "execution_count": 175,
   "metadata": {},
   "outputs": [],
   "source": [
    "# Checking for null values"
   ]
  },
  {
   "cell_type": "code",
   "execution_count": 176,
   "metadata": {},
   "outputs": [
    {
     "data": {
      "text/plain": [
       "Account       0\n",
       "Q_1_2018      0\n",
       "Q_2_2018      0\n",
       "Q_3_2018      0\n",
       "Q_4_2018      0\n",
       "Total         0\n",
       "Unnamed: 6    3\n",
       "Unnamed: 7    3\n",
       "Unnamed: 8    3\n",
       "dtype: int64"
      ]
     },
     "execution_count": 176,
     "metadata": {},
     "output_type": "execute_result"
    }
   ],
   "source": [
    "T_2018.isnull().sum()"
   ]
  },
  {
   "cell_type": "code",
   "execution_count": 177,
   "metadata": {},
   "outputs": [
    {
     "data": {
      "text/plain": [
       "Account       0\n",
       "Q_1_2019      0\n",
       "Q_2_2019      0\n",
       "Q_3_2019      0\n",
       "Q_4_2019      0\n",
       "Total         0\n",
       "Unnamed: 6    2\n",
       "dtype: int64"
      ]
     },
     "execution_count": 177,
     "metadata": {},
     "output_type": "execute_result"
    }
   ],
   "source": [
    "T_2019.isnull().sum()"
   ]
  },
  {
   "cell_type": "code",
   "execution_count": 178,
   "metadata": {},
   "outputs": [
    {
     "data": {
      "text/plain": [
       "Account       0\n",
       "Q_1_2020      0\n",
       "Q_2_2020      0\n",
       "Q_3_2020      0\n",
       "Q_4_2020      0\n",
       "Total         0\n",
       "Unnamed: 6    3\n",
       "Unnamed: 7    3\n",
       "dtype: int64"
      ]
     },
     "execution_count": 178,
     "metadata": {},
     "output_type": "execute_result"
    }
   ],
   "source": [
    "T_2020.isnull().sum()"
   ]
  },
  {
   "cell_type": "code",
   "execution_count": 179,
   "metadata": {},
   "outputs": [],
   "source": [
    "# Total revenue and Expenses overview"
   ]
  },
  {
   "cell_type": "code",
   "execution_count": 180,
   "metadata": {},
   "outputs": [
    {
     "data": {
      "image/png": "[encoded data removed]",
      "text/plain": [
       "<Figure size 432x288 with 1 Axes>"
      ]
     },
     "metadata": {
      "needs_background": "light"
     },
     "output_type": "display_data"
    }
   ],
   "source": [
    "plt.bar(T_2018['Account'], T_2018['Total'], width= 0.5, align='center',color='cyan', edgecolor = 'red')\n",
    "plt.legend(labels = ['Total per account'])\n",
    "plt.title(\"Total revenue and Expenses overview\")\n",
    "plt.xlabel('Account')\n",
    "plt.ylabel('Total')\n",
    "plt.xticks(rotation=90)\n",
    "plt.show()"
   ]
  },
  {
   "cell_type": "code",
   "execution_count": 181,
   "metadata": {},
   "outputs": [],
   "source": [
    "# Quarterely Overview"
   ]
  },
  {
   "cell_type": "code",
   "execution_count": 182,
   "metadata": {},
   "outputs": [
    {
     "data": {
      "text/plain": [
       "<AxesSubplot:xlabel='Account'>"
      ]
     },
     "execution_count": 182,
     "metadata": {},
     "output_type": "execute_result"
    },
    {
     "data": {
      "image/png": "[encoded data removed]",
      "text/plain": [
       "<Figure size 432x288 with 1 Axes>"
      ]
     },
     "metadata": {
      "needs_background": "light"
     },
     "output_type": "display_data"
    }
   ],
   "source": [
    "T_2018.plot(x=\"Account\", y=[\"Q_1_2018\", \"Q_2_2018\", \"Q_3_2018\",\"Q_4_2018\"], kind=\"bar\")"
   ]
  },
  {
   "cell_type": "code",
   "execution_count": 183,
   "metadata": {},
   "outputs": [
    {
     "data": {
      "image/png": "[encoded data removed]",
      "text/plain": [
       "<Figure size 432x288 with 1 Axes>"
      ]
     },
     "metadata": {
      "needs_background": "light"
     },
     "output_type": "display_data"
    }
   ],
   "source": [
    "plt.bar(T_2019['Account'], T_2019['Total'], width= 0.5, align='center',color='cyan', edgecolor = 'red')\n",
    "plt.legend(labels = ['Total per account'])\n",
    "plt.title(\"Total revenue and Expenses overview\")\n",
    "plt.xlabel('Account')\n",
    "plt.ylabel('Total')\n",
    "plt.xticks(rotation=90)\n",
    "plt.show()"
   ]
  },
  {
   "cell_type": "code",
   "execution_count": 184,
   "metadata": {},
   "outputs": [
    {
     "data": {
      "text/plain": [
       "<AxesSubplot:xlabel='Account'>"
      ]
     },
     "execution_count": 184,
     "metadata": {},
     "output_type": "execute_result"
    },
    {
     "data": {
      "image/png": "[encoded data removed]",
      "text/plain": [
       "<Figure size 432x288 with 1 Axes>"
      ]
     },
     "metadata": {
      "needs_background": "light"
     },
     "output_type": "display_data"
    }
   ],
   "source": [
    "T_2019.plot(x=\"Account\", y=[\"Q_1_2019\", \"Q_2_2019\", \"Q_3_2019\",\"Q_4_2019\"], kind=\"bar\")"
   ]
  },
  {
   "cell_type": "code",
   "execution_count": 185,
   "metadata": {},
   "outputs": [
    {
     "data": {
      "image/png": "[encoded data removed]",
      "text/plain": [
       "<Figure size 432x288 with 1 Axes>"
      ]
     },
     "metadata": {
      "needs_background": "light"
     },
     "output_type": "display_data"
    }
   ],
   "source": [
    "plt.bar(T_2020['Account'], T_2020['Total'], width= 0.5, align='center',color='cyan', edgecolor = 'red')\n",
    "plt.legend(labels = ['Total per account'])\n",
    "plt.title(\"Total revenue and Expenses overview\")\n",
    "plt.xlabel('Account')\n",
    "plt.ylabel('Total')\n",
    "plt.xticks(rotation=90)\n",
    "plt.show()"
   ]
  },
  {
   "cell_type": "code",
   "execution_count": 186,
   "metadata": {},
   "outputs": [
    {
     "data": {
      "text/plain": [
       "<AxesSubplot:xlabel='Account'>"
      ]
     },
     "execution_count": 186,
     "metadata": {},
     "output_type": "execute_result"
    },
    {
     "data": {
      "image/png": "[encoded data removed]",
      "text/plain": [
       "<Figure size 432x288 with 1 Axes>"
      ]
     },
     "metadata": {
      "needs_background": "light"
     },
     "output_type": "display_data"
    }
   ],
   "source": [
    "T_2020.plot(x=\"Account\", y=[\"Q_1_2020\", \"Q_2_2020\", \"Q_3_2020\",\"Q_4_2020\"], kind=\"bar\")"
   ]
  },
  {
   "cell_type": "code",
   "execution_count": 187,
   "metadata": {},
   "outputs": [],
   "source": [
    "# Checking percentage increase/decrease in Income and expenses per quarter in the FY 2018,2019 and 2020"
   ]
  },
  {
   "cell_type": "code",
   "execution_count": null,
   "metadata": {},
   "outputs": [],
   "source": []
  }
 ],
 "metadata": {
  "kernelspec": {
   "display_name": "Python 3",
   "language": "python",
   "name": "python3"
  },
  "language_info": {
   "codemirror_mode": {
    "name": "ipython",
    "version": 3
   },
   "file_extension": ".py",
   "mimetype": "text/x-python",
   "name": "python",
   "nbconvert_exporter": "python",
   "pygments_lexer": "ipython3",
   "version": "3.8.5"
  }
 },
 "nbformat": 4,
 "nbformat_minor": 4
}
